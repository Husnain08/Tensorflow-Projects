{
 "cells": [
  {
   "cell_type": "code",
   "execution_count": 1,
   "metadata": {},
   "outputs": [],
   "source": [
    "import os\n",
    "import glob\n",
    "import numpy as np\n",
    "import pandas as pd\n",
    "import matplotlib.pyplot as plt"
   ]
  },
  {
   "cell_type": "code",
   "execution_count": 4,
   "metadata": {},
   "outputs": [],
   "source": [
    "directory = os.path.join('./chest_xray/data')"
   ]
  },
  {
   "cell_type": "code",
   "execution_count": 6,
   "metadata": {},
   "outputs": [],
   "source": [
    "healthy_mris= os.path.join (directory , 'NORMAL')\n",
    "infected_mris = os.path.join (directory , 'PNEUMONIA')"
   ]
  },
  {
   "cell_type": "code",
   "execution_count": 7,
   "metadata": {},
   "outputs": [],
   "source": [
    "healthy_files = glob.glob (healthy_mris + '/*.jpeg' ) # Since we have the pictures in the jpeg format\n",
    "infected_files = glob.glob (infected_mris + '/*.jpeg' )"
   ]
  },
  {
   "cell_type": "code",
   "execution_count": 9,
   "metadata": {},
   "outputs": [
    {
     "name": "stdout",
     "output_type": "stream",
     "text": [
      "Total number of Healthy MRI Scans are 1583\n",
      "Total number of Infected MRI Scans are 4273\n"
     ]
    }
   ],
   "source": [
    "print ('Total number of Healthy MRI Scans are ' + str (len (healthy_files)))\n",
    "print ('Total number of Infected MRI Scans are ' + str (len (infected_files)))"
   ]
  },
  {
   "cell_type": "code",
   "execution_count": 13,
   "metadata": {},
   "outputs": [],
   "source": [
    "df = pd.DataFrame ({\n",
    "    'files' : infected_files + healthy_files ,\n",
    "    'label' : ['infected'] * len (infected_files) + ['healthy'] * len (healthy_files)\n",
    "     }). sample (frac = 1 , random_state = 0 ). reset_index (drop = True)"
   ]
  },
  {
   "cell_type": "code",
   "execution_count": 14,
   "metadata": {},
   "outputs": [
    {
     "data": {
      "text/html": [
       "<div>\n",
       "<style scoped>\n",
       "    .dataframe tbody tr th:only-of-type {\n",
       "        vertical-align: middle;\n",
       "    }\n",
       "\n",
       "    .dataframe tbody tr th {\n",
       "        vertical-align: top;\n",
       "    }\n",
       "\n",
       "    .dataframe thead th {\n",
       "        text-align: right;\n",
       "    }\n",
       "</style>\n",
       "<table border=\"1\" class=\"dataframe\">\n",
       "  <thead>\n",
       "    <tr style=\"text-align: right;\">\n",
       "      <th></th>\n",
       "      <th>files</th>\n",
       "      <th>label</th>\n",
       "    </tr>\n",
       "  </thead>\n",
       "  <tbody>\n",
       "    <tr>\n",
       "      <th>0</th>\n",
       "      <td>./chest_xray/data\\PNEUMONIA\\person884_bacteria...</td>\n",
       "      <td>infected</td>\n",
       "    </tr>\n",
       "    <tr>\n",
       "      <th>1</th>\n",
       "      <td>./chest_xray/data\\PNEUMONIA\\person1839_bacteri...</td>\n",
       "      <td>infected</td>\n",
       "    </tr>\n",
       "    <tr>\n",
       "      <th>2</th>\n",
       "      <td>./chest_xray/data\\PNEUMONIA\\person1271_virus_2...</td>\n",
       "      <td>infected</td>\n",
       "    </tr>\n",
       "    <tr>\n",
       "      <th>3</th>\n",
       "      <td>./chest_xray/data\\NORMAL\\NORMAL2-IM-1258-0001-...</td>\n",
       "      <td>healthy</td>\n",
       "    </tr>\n",
       "    <tr>\n",
       "      <th>4</th>\n",
       "      <td>./chest_xray/data\\NORMAL\\NORMAL2-IM-1258-0001....</td>\n",
       "      <td>healthy</td>\n",
       "    </tr>\n",
       "    <tr>\n",
       "      <th>5</th>\n",
       "      <td>./chest_xray/data\\PNEUMONIA\\person64_virus_122...</td>\n",
       "      <td>infected</td>\n",
       "    </tr>\n",
       "    <tr>\n",
       "      <th>6</th>\n",
       "      <td>./chest_xray/data\\PNEUMONIA\\person1432_bacteri...</td>\n",
       "      <td>infected</td>\n",
       "    </tr>\n",
       "    <tr>\n",
       "      <th>7</th>\n",
       "      <td>./chest_xray/data\\NORMAL\\NORMAL2-IM-0831-0001....</td>\n",
       "      <td>healthy</td>\n",
       "    </tr>\n",
       "    <tr>\n",
       "      <th>8</th>\n",
       "      <td>./chest_xray/data\\PNEUMONIA\\person128_bacteria...</td>\n",
       "      <td>infected</td>\n",
       "    </tr>\n",
       "    <tr>\n",
       "      <th>9</th>\n",
       "      <td>./chest_xray/data\\PNEUMONIA\\person39_virus_85....</td>\n",
       "      <td>infected</td>\n",
       "    </tr>\n",
       "  </tbody>\n",
       "</table>\n",
       "</div>"
      ],
      "text/plain": [
       "                                               files     label\n",
       "0  ./chest_xray/data\\PNEUMONIA\\person884_bacteria...  infected\n",
       "1  ./chest_xray/data\\PNEUMONIA\\person1839_bacteri...  infected\n",
       "2  ./chest_xray/data\\PNEUMONIA\\person1271_virus_2...  infected\n",
       "3  ./chest_xray/data\\NORMAL\\NORMAL2-IM-1258-0001-...   healthy\n",
       "4  ./chest_xray/data\\NORMAL\\NORMAL2-IM-1258-0001....   healthy\n",
       "5  ./chest_xray/data\\PNEUMONIA\\person64_virus_122...  infected\n",
       "6  ./chest_xray/data\\PNEUMONIA\\person1432_bacteri...  infected\n",
       "7  ./chest_xray/data\\NORMAL\\NORMAL2-IM-0831-0001....   healthy\n",
       "8  ./chest_xray/data\\PNEUMONIA\\person128_bacteria...  infected\n",
       "9  ./chest_xray/data\\PNEUMONIA\\person39_virus_85....  infected"
      ]
     },
     "execution_count": 14,
     "metadata": {},
     "output_type": "execute_result"
    }
   ],
   "source": [
    "df.head(10)"
   ]
  },
  {
   "cell_type": "code",
   "execution_count": null,
   "metadata": {},
   "outputs": [],
   "source": []
  },
  {
   "cell_type": "code",
   "execution_count": 25,
   "metadata": {},
   "outputs": [
    {
     "name": "stdout",
     "output_type": "stream",
     "text": [
      "(4215,) (469,) (1172,)\n",
      "Train: Counter({'infected': 3078, 'healthy': 1137}) \n",
      "Validation Set: Counter({'infected': 340, 'healthy': 129}) \n",
      " Test Set: Counter({'infected': 855, 'healthy': 317})\n"
     ]
    }
   ],
   "source": [
    "# Doing Train- Test Split\n",
    "from sklearn.model_selection import train_test_split\n",
    "from collections import Counter\n",
    "\n",
    "train_files, test_files, train_labels, test_labels = train_test_split(df['files'].values,\n",
    "                                                                      df['label'].values, \n",
    "                                                                      test_size=0.2, random_state=42)\n",
    "train_files, val_files, train_labels, val_labels = train_test_split(train_files,\n",
    "                                                                    train_labels, \n",
    "                                                                    test_size=0.1, random_state=42)\n",
    "\n",
    "print(train_files.shape, val_files.shape, test_files.shape)\n",
    "print('Train:', Counter(train_labels), '\\nValidation Set:', Counter(val_labels), '\\n Test Set:', Counter(test_labels))\n",
    "\n"
   ]
  },
  {
   "cell_type": "code",
   "execution_count": 30,
   "metadata": {},
   "outputs": [
    {
     "name": "stdout",
     "output_type": "stream",
     "text": [
      "Loading Train Images:\n",
      "ThreadPoolExecutor-1_0: working on img num: 0\n",
      "ThreadPoolExecutor-1_37: working on img num: 4214\n",
      "\n",
      "Loading Validation Images:\n",
      "ThreadPoolExecutor-1_23: working on img num: 0\n",
      "ThreadPoolExecutor-1_12: working on img num: 468\n",
      "\n",
      "Loading Test Images:\n",
      "ThreadPoolExecutor-1_13: working on img num: 0\n",
      "ThreadPoolExecutor-1_35: working on img num: 1171\n"
     ]
    },
    {
     "data": {
      "text/plain": [
       "((4215, 200, 200, 3), (469, 200, 200, 3), (1172, 200, 200, 3))"
      ]
     },
     "execution_count": 30,
     "metadata": {},
     "output_type": "execute_result"
    }
   ],
   "source": [
    "import cv2\n",
    "from concurrent import futures\n",
    "import threading\n",
    "\n",
    "IMG_DIMS = (200, 200)\n",
    "\n",
    "def get_img_data_parallel(idx, img, total_imgs):\n",
    "    if idx % 5000 == 0 or idx == (total_imgs - 1):\n",
    "        print('{}: working on img num: {}'.format(threading.current_thread().name,\n",
    "                                                  idx))\n",
    "    img = cv2.imread(img)\n",
    "    img = cv2.resize(img, dsize=IMG_DIMS, \n",
    "                     interpolation=cv2.INTER_CUBIC)\n",
    "    img = np.array(img, dtype=np.float32)\n",
    "    return img\n",
    "\n",
    "ex = futures.ThreadPoolExecutor(max_workers=None)\n",
    "train_data_inp = [(idx, img, len(train_files)) for idx, img in enumerate(train_files)]\n",
    "val_data_inp = [(idx, img, len(val_files)) for idx, img in enumerate(val_files)]\n",
    "test_data_inp = [(idx, img, len(test_files)) for idx, img in enumerate(test_files)]\n",
    "\n",
    "print('Loading Train Images:')\n",
    "train_data_map = ex.map(get_img_data_parallel, \n",
    "                        [record[0] for record in train_data_inp],\n",
    "                        [record[1] for record in train_data_inp],\n",
    "                        [record[2] for record in train_data_inp])\n",
    "train_data = np.array(list(train_data_map))\n",
    "\n",
    "print('\\nLoading Validation Images:')\n",
    "val_data_map = ex.map(get_img_data_parallel, \n",
    "                        [record[0] for record in val_data_inp],\n",
    "                        [record[1] for record in val_data_inp],\n",
    "                        [record[2] for record in val_data_inp])\n",
    "val_data = np.array(list(val_data_map))\n",
    "\n",
    "print('\\nLoading Test Images:')\n",
    "test_data_map = ex.map(get_img_data_parallel, \n",
    "                        [record[0] for record in test_data_inp],\n",
    "                        [record[1] for record in test_data_inp],\n",
    "                        [record[2] for record in test_data_inp])\n",
    "test_data = np.array(list(test_data_map))\n",
    "\n",
    "train_data.shape, val_data.shape, test_data.shape  \n"
   ]
  },
  {
   "cell_type": "code",
   "execution_count": 31,
   "metadata": {},
   "outputs": [
    {
     "data": {
      "image/png": "[encoded data removed]",
      "text/plain": [
       "<Figure size 504x504 with 10 Axes>"
      ]
     },
     "metadata": {},
     "output_type": "display_data"
    }
   ],
   "source": [
    "# Visualizing some of the samples in the training data\n",
    "\n",
    "import matplotlib.pyplot as plt\n",
    "%matplotlib inline\n",
    "\n",
    "plt.figure(1 , figsize = (7 , 7))\n",
    "n = 0 \n",
    "for i in range(10):\n",
    "    n += 1 \n",
    "    r = np.random.randint(0 , train_data.shape[0] , 1)\n",
    "    plt.subplot(5 , 5 , n)\n",
    "    plt.subplots_adjust(hspace = 0.5 , wspace = 0.5)\n",
    "    plt.imshow(train_data[r[0]]/255.)\n",
    "    plt.title('{}'.format(train_labels[r[0]]))\n",
    "    plt.xticks([]) , plt.yticks([])"
   ]
  },
  {
   "cell_type": "code",
   "execution_count": 32,
   "metadata": {},
   "outputs": [
    {
     "name": "stderr",
     "output_type": "stream",
     "text": [
      "Using TensorFlow backend.\n"
     ]
    }
   ],
   "source": [
    "#Let us now model\n",
    "import tensorflow as tf\n",
    "import keras\n",
    "class myCallback(tf.keras.callbacks.Callback):\n",
    "    def on_epoch_end(self, epoch, logs={}):\n",
    "        if(logs.get('acc')>0.960):\n",
    "            print(\"\\n Reached 96% accuracy so cancelling training!\")\n",
    "            self.model.stop_training = True\n",
    "callbacks = myCallback()"
   ]
  },
  {
   "cell_type": "code",
   "execution_count": 55,
   "metadata": {},
   "outputs": [],
   "source": [
    "from sklearn.preprocessing import LabelEncoder\n",
    "\n",
    "le = LabelEncoder()\n",
    "le.fit(train_labels)\n",
    "train_labels_enc = le.transform(train_labels)\n",
    "val_labels_enc = le.transform(val_labels)\n",
    "test_labels_enc = le.transform (test_labels)"
   ]
  },
  {
   "cell_type": "code",
   "execution_count": 40,
   "metadata": {},
   "outputs": [],
   "source": [
    "model = tf.keras.models.Sequential([\n",
    "  tf.keras.layers.Conv2D(32, (3,3), activation='relu', input_shape=(200, 200, 3)),\n",
    "  tf.keras.layers.MaxPooling2D(2, 2),\n",
    "  tf.keras.layers.Dropout(0.20),\n",
    "  tf.keras.layers.Conv2D(64, (3,3), activation='relu'),\n",
    "  tf.keras.layers.MaxPooling2D(2, 2),\n",
    "  tf.keras.layers.Dropout(0.25),\n",
    "  tf.keras.layers.Flatten(),\n",
    "  tf.keras.layers.Dense(128, activation='relu'),\n",
    "  tf.keras.layers.Dropout(0.25),  \n",
    "  tf.keras.layers.Dense(1, activation='sigmoid')])\n"
   ]
  },
  {
   "cell_type": "code",
   "execution_count": 41,
   "metadata": {},
   "outputs": [
    {
     "name": "stdout",
     "output_type": "stream",
     "text": [
      "Model: \"sequential_1\"\n",
      "_________________________________________________________________\n",
      "Layer (type)                 Output Shape              Param #   \n",
      "=================================================================\n",
      "conv2d_2 (Conv2D)            (None, 198, 198, 32)      896       \n",
      "_________________________________________________________________\n",
      "max_pooling2d_2 (MaxPooling2 (None, 99, 99, 32)        0         \n",
      "_________________________________________________________________\n",
      "dropout_3 (Dropout)          (None, 99, 99, 32)        0         \n",
      "_________________________________________________________________\n",
      "conv2d_3 (Conv2D)            (None, 97, 97, 64)        18496     \n",
      "_________________________________________________________________\n",
      "max_pooling2d_3 (MaxPooling2 (None, 48, 48, 64)        0         \n",
      "_________________________________________________________________\n",
      "dropout_4 (Dropout)          (None, 48, 48, 64)        0         \n",
      "_________________________________________________________________\n",
      "flatten_1 (Flatten)          (None, 147456)            0         \n",
      "_________________________________________________________________\n",
      "dense_2 (Dense)              (None, 128)               18874496  \n",
      "_________________________________________________________________\n",
      "dropout_5 (Dropout)          (None, 128)               0         \n",
      "_________________________________________________________________\n",
      "dense_3 (Dense)              (None, 1)                 129       \n",
      "=================================================================\n",
      "Total params: 18,894,017\n",
      "Trainable params: 18,894,017\n",
      "Non-trainable params: 0\n",
      "_________________________________________________________________\n"
     ]
    }
   ],
   "source": [
    "model.summary()"
   ]
  },
  {
   "cell_type": "code",
   "execution_count": 42,
   "metadata": {},
   "outputs": [],
   "source": [
    "from tensorflow.keras.optimizers import RMSprop\n",
    "\n",
    "model.compile(loss='binary_crossentropy',optimizer=RMSprop(lr=0.01),metrics=['acc'])"
   ]
  },
  {
   "cell_type": "code",
   "execution_count": 43,
   "metadata": {},
   "outputs": [],
   "source": [
    "train_imgs_scaled = train_data / 255.\n",
    "val_imgs_scaled = val_data / 255."
   ]
  },
  {
   "cell_type": "code",
   "execution_count": 44,
   "metadata": {},
   "outputs": [
    {
     "name": "stdout",
     "output_type": "stream",
     "text": [
      "Train on 4215 samples, validate on 469 samples\n",
      "Epoch 1/30\n",
      "4215/4215 - 162s - loss: 18.8576 - acc: 0.7777 - val_loss: 0.3190 - val_acc: 0.8763\n",
      "Epoch 2/30\n",
      "4215/4215 - 164s - loss: 0.8150 - acc: 0.8579 - val_loss: 0.3063 - val_acc: 0.8785\n",
      "Epoch 3/30\n",
      "4215/4215 - 163s - loss: 0.8622 - acc: 0.8586 - val_loss: 0.2842 - val_acc: 0.8934\n",
      "Epoch 4/30\n",
      "4215/4215 - 154s - loss: 0.9139 - acc: 0.8719 - val_loss: 0.2941 - val_acc: 0.8955\n",
      "Epoch 5/30\n",
      "4215/4215 - 153s - loss: 0.4683 - acc: 0.8809 - val_loss: 0.3206 - val_acc: 0.8977\n",
      "Epoch 6/30\n",
      "4215/4215 - 157s - loss: 0.8387 - acc: 0.8842 - val_loss: 0.3096 - val_acc: 0.8678\n",
      "Epoch 7/30\n",
      "4215/4215 - 157s - loss: 0.4742 - acc: 0.8906 - val_loss: 0.3365 - val_acc: 0.8465\n",
      "Epoch 8/30\n",
      "4215/4215 - 152s - loss: 0.6950 - acc: 0.8975 - val_loss: 0.3605 - val_acc: 0.9083\n",
      "Epoch 9/30\n",
      "4215/4215 - 147s - loss: 2.0761 - acc: 0.8899 - val_loss: 0.3429 - val_acc: 0.8827\n",
      "Epoch 10/30\n",
      "4215/4215 - 150s - loss: 0.5468 - acc: 0.8821 - val_loss: 0.4061 - val_acc: 0.8977\n",
      "Epoch 11/30\n",
      "4215/4215 - 155s - loss: 0.4564 - acc: 0.9013 - val_loss: 0.3570 - val_acc: 0.8550\n",
      "Epoch 12/30\n",
      "4215/4215 - 160s - loss: 1.5892 - acc: 0.9096 - val_loss: 0.3213 - val_acc: 0.9339\n",
      "Epoch 13/30\n",
      "4215/4215 - 160s - loss: 0.9839 - acc: 0.9125 - val_loss: 0.3377 - val_acc: 0.9254\n",
      "Epoch 14/30\n",
      "4215/4215 - 158s - loss: 0.8386 - acc: 0.9122 - val_loss: 0.3939 - val_acc: 0.9190\n",
      "Epoch 15/30\n",
      "4215/4215 - 152s - loss: 1.0108 - acc: 0.9077 - val_loss: 0.2562 - val_acc: 0.9168\n",
      "Epoch 16/30\n",
      "4215/4215 - 160s - loss: 0.7666 - acc: 0.9027 - val_loss: 1.2747 - val_acc: 0.9232\n",
      "Epoch 17/30\n",
      "4215/4215 - 158s - loss: 0.3738 - acc: 0.9136 - val_loss: 0.5724 - val_acc: 0.8401\n",
      "Epoch 18/30\n",
      "4215/4215 - 154s - loss: 0.6300 - acc: 0.9144 - val_loss: 0.2930 - val_acc: 0.9190\n",
      "Epoch 19/30\n",
      "4215/4215 - 158s - loss: 0.4361 - acc: 0.9165 - val_loss: 0.2623 - val_acc: 0.9232\n",
      "Epoch 20/30\n",
      "4215/4215 - 157s - loss: 0.6740 - acc: 0.9117 - val_loss: 0.4014 - val_acc: 0.8571\n",
      "Epoch 21/30\n",
      "4215/4215 - 152s - loss: 0.4286 - acc: 0.9181 - val_loss: 0.4630 - val_acc: 0.8742\n",
      "Epoch 22/30\n",
      "4215/4215 - 147s - loss: 0.3984 - acc: 0.9217 - val_loss: 0.4792 - val_acc: 0.9104\n",
      "Epoch 23/30\n",
      "4215/4215 - 146s - loss: 4.7161 - acc: 0.9186 - val_loss: 0.4114 - val_acc: 0.9190\n",
      "Epoch 24/30\n",
      "4215/4215 - 146s - loss: 0.3999 - acc: 0.9279 - val_loss: 0.4533 - val_acc: 0.9190\n",
      "Epoch 25/30\n",
      "4215/4215 - 146s - loss: 0.6847 - acc: 0.9229 - val_loss: 0.4645 - val_acc: 0.9360\n",
      "Epoch 26/30\n",
      "4215/4215 - 147s - loss: 0.2844 - acc: 0.9286 - val_loss: 0.2951 - val_acc: 0.9360\n",
      "Epoch 27/30\n",
      "4215/4215 - 151s - loss: 0.2756 - acc: 0.9295 - val_loss: 0.4681 - val_acc: 0.8998\n",
      "Epoch 28/30\n",
      "4215/4215 - 152s - loss: 0.4348 - acc: 0.9184 - val_loss: 0.5296 - val_acc: 0.9275\n",
      "Epoch 29/30\n",
      "4215/4215 - 150s - loss: 0.3494 - acc: 0.9293 - val_loss: 0.3840 - val_acc: 0.9147\n",
      "Epoch 30/30\n",
      "4215/4215 - 155s - loss: 0.4413 - acc: 0.9279 - val_loss: 0.3873 - val_acc: 0.9062\n"
     ]
    }
   ],
   "source": [
    "history = model.fit(x=train_imgs_scaled, y=train_labels_enc, \n",
    "                    batch_size=20,\n",
    "                    epochs=30, \n",
    "                    validation_data=(val_imgs_scaled, val_labels_enc), \n",
    "                    callbacks=[callbacks],\n",
    "                    verbose=2)"
   ]
  },
  {
   "cell_type": "code",
   "execution_count": 45,
   "metadata": {},
   "outputs": [],
   "source": [
    "# saving the model weights\n",
    "model.save('Pneumonia Model.h5')"
   ]
  },
  {
   "cell_type": "code",
   "execution_count": 46,
   "metadata": {},
   "outputs": [
    {
     "data": {
      "image/png": "[encoded data removed]",
      "text/plain": [
       "<Figure size 432x288 with 1 Axes>"
      ]
     },
     "metadata": {
      "needs_background": "light"
     },
     "output_type": "display_data"
    },
    {
     "data": {
      "image/png": "[encoded data removed]",
      "text/plain": [
       "<Figure size 432x288 with 1 Axes>"
      ]
     },
     "metadata": {
      "needs_background": "light"
     },
     "output_type": "display_data"
    }
   ],
   "source": [
    "import matplotlib.pyplot as plt\n",
    "\n",
    "\n",
    "def plot_graphs(history, string):\n",
    "  plt.plot(history.history[string])\n",
    "  plt.plot(history.history['val_' +string])\n",
    "  plt.xlabel(\"Epochs\")\n",
    "  plt.ylabel(string)\n",
    "  plt.legend([string, 'val_'+string])\n",
    "  plt.show()\n",
    "  \n",
    "plot_graphs(history, \"acc\")\n",
    "plot_graphs(history, \"loss\")"
   ]
  },
  {
   "cell_type": "code",
   "execution_count": 48,
   "metadata": {},
   "outputs": [],
   "source": [
    "from sklearn.metrics import classification_report"
   ]
  },
  {
   "cell_type": "code",
   "execution_count": 51,
   "metadata": {},
   "outputs": [],
   "source": [
    "y_pred=model.predict(test_data)"
   ]
  },
  {
   "cell_type": "code",
   "execution_count": 56,
   "metadata": {},
   "outputs": [],
   "source": [
    "target_names = ['Healthy ', 'Pneuometic']\n",
    "rep=classification_report(test_labels_enc,y_pred,target_names=target_names)"
   ]
  },
  {
   "cell_type": "code",
   "execution_count": 57,
   "metadata": {},
   "outputs": [
    {
     "name": "stdout",
     "output_type": "stream",
     "text": [
      "              precision    recall  f1-score   support\n",
      "\n",
      "    Healthy        0.78      0.36      0.49       317\n",
      "  Pneuometic       0.80      0.96      0.88       855\n",
      "\n",
      "   micro avg       0.80      0.80      0.80      1172\n",
      "   macro avg       0.79      0.66      0.68      1172\n",
      "weighted avg       0.80      0.80      0.77      1172\n",
      "\n"
     ]
    }
   ],
   "source": [
    "print(rep)"
   ]
  },
  {
   "cell_type": "code",
   "execution_count": 58,
   "metadata": {},
   "outputs": [],
   "source": [
    "import numpy as np\n",
    "\n",
    "\n",
    "def plot_confusion_matrix(cm,\n",
    "                          target_names,\n",
    "                          title='Confusion matrix',\n",
    "                          cmap=None,\n",
    "                          normalize=True):\n",
    "    \"\"\"\n",
    "    given a sklearn confusion matrix (cm), make a nice plot\n",
    "\n",
    "    Arguments\n",
    "    ---------\n",
    "    cm:           confusion matrix from sklearn.metrics.confusion_matrix\n",
    "\n",
    "    target_names: given classification classes such as [0, 1, 2]\n",
    "                  the class names, for example: ['high', 'medium', 'low']\n",
    "\n",
    "    title:        the text to display at the top of the matrix\n",
    "\n",
    "    cmap:         the gradient of the values displayed from matplotlib.pyplot.cm\n",
    "                  see http://matplotlib.org/examples/color/colormaps_reference.html\n",
    "                  plt.get_cmap('jet') or plt.cm.Blues\n",
    "\n",
    "    normalize:    If False, plot the raw numbers\n",
    "                  If True, plot the proportions\n",
    "\n",
    "    Usage\n",
    "    -----\n",
    "    plot_confusion_matrix(cm           = cm,                  # confusion matrix created by\n",
    "                                                              # sklearn.metrics.confusion_matrix\n",
    "                          normalize    = True,                # show proportions\n",
    "                          target_names = y_labels_vals,       # list of names of the classes\n",
    "                          title        = best_estimator_name) # title of graph\n",
    "\n",
    "    Citiation\n",
    "    ---------\n",
    "    http://scikit-learn.org/stable/auto_examples/model_selection/plot_confusion_matrix.html\n",
    "\n",
    "    \"\"\"\n",
    "    import matplotlib.pyplot as plt\n",
    "    import numpy as np\n",
    "    import itertools\n",
    "\n",
    "    accuracy = np.trace(cm) / float(np.sum(cm))\n",
    "    misclass = 1 - accuracy\n",
    "\n",
    "    if cmap is None:\n",
    "        cmap = plt.get_cmap('Blues')\n",
    "\n",
    "    plt.figure(figsize=(8, 6))\n",
    "    plt.imshow(cm, interpolation='nearest', cmap=cmap)\n",
    "    plt.title(title)\n",
    "    plt.colorbar()\n",
    "\n",
    "    if target_names is not None:\n",
    "        tick_marks = np.arange(len(target_names))\n",
    "        plt.xticks(tick_marks, target_names, rotation=45)\n",
    "        plt.yticks(tick_marks, target_names)\n",
    "\n",
    "    if normalize:\n",
    "        cm = cm.astype('float') / cm.sum(axis=1)[:, np.newaxis]\n",
    "\n",
    "\n",
    "    thresh = cm.max() / 1.5 if normalize else cm.max() / 2\n",
    "    for i, j in itertools.product(range(cm.shape[0]), range(cm.shape[1])):\n",
    "        if normalize:\n",
    "            plt.text(j, i, \"{:0.4f}\".format(cm[i, j]),\n",
    "                     horizontalalignment=\"center\",\n",
    "                     color=\"white\" if cm[i, j] > thresh else \"black\")\n",
    "        else:\n",
    "            plt.text(j, i, \"{:,}\".format(cm[i, j]),\n",
    "                     horizontalalignment=\"center\",\n",
    "                     color=\"white\" if cm[i, j] > thresh else \"black\")\n",
    "\n",
    "\n",
    "    plt.tight_layout()\n",
    "    plt.ylabel('True label')\n",
    "    plt.xlabel('Predicted label\\naccuracy={:0.4f}; misclass={:0.4f}'.format(accuracy, misclass))\n",
    "    plt.show()"
   ]
  },
  {
   "cell_type": "code",
   "execution_count": 59,
   "metadata": {},
   "outputs": [],
   "source": [
    "from sklearn.metrics import confusion_matrix"
   ]
  },
  {
   "cell_type": "code",
   "execution_count": 62,
   "metadata": {},
   "outputs": [],
   "source": [
    "cm=confusion_matrix(test_labels_enc,y_pred )"
   ]
  },
  {
   "cell_type": "code",
   "execution_count": 64,
   "metadata": {},
   "outputs": [],
   "source": [
    "tn, fp, fn, tp = confusion_matrix(test_labels_enc, y_pred).ravel()"
   ]
  },
  {
   "cell_type": "code",
   "execution_count": 65,
   "metadata": {},
   "outputs": [
    {
     "data": {
      "text/plain": [
       "(113, 204, 31, 824)"
      ]
     },
     "execution_count": 65,
     "metadata": {},
     "output_type": "execute_result"
    }
   ],
   "source": [
    "(tn, fp, fn, tp)"
   ]
  },
  {
   "cell_type": "code",
   "execution_count": 68,
   "metadata": {},
   "outputs": [
    {
     "data": {
      "image/png": "[encoded data removed]",
      "text/plain": [
       "<Figure size 576x432 with 2 Axes>"
      ]
     },
     "metadata": {
      "needs_background": "light"
     },
     "output_type": "display_data"
    }
   ],
   "source": [
    "plot_confusion_matrix(cm,normalize=False,target_names=['Healthy','Pneumatic'])"
   ]
  },
  {
   "cell_type": "code",
   "execution_count": null,
   "metadata": {},
   "outputs": [],
   "source": []
  },
  {
   "cell_type": "code",
   "execution_count": 88,
   "metadata": {},
   "outputs": [],
   "source": [
    "from keras.models import load_model\n",
    "from keras.preprocessing import image\n",
    "import matplotlib.pyplot as plt\n",
    "import numpy as np\n",
    "import os\n",
    "\n",
    "def load_image(img_path, show=False):\n",
    "\n",
    "    img = image.load_img(img_path, target_size=(200, 200))\n",
    "    img_tensor = image.img_to_array(img)                    # (height, width, channels)\n",
    "    img_tensor = np.expand_dims(img_tensor, axis=0)         # (1, height, width, channels), add a dimension because the model expects this shape: (batch_size, height, width, channels)\n",
    "    img_tensor /= 255.                                      # imshow expects values in the range [0, 1]\n",
    "\n",
    "    if show:\n",
    "        plt.imshow(img_tensor[0])                           \n",
    "        plt.axis('off')\n",
    "        plt.show()\n",
    "\n",
    "    return img_tensor"
   ]
  },
  {
   "cell_type": "markdown",
   "metadata": {},
   "source": [
    "# Now I will load the weights and do predictions on a couple of examples. The first example should give us a very low probability of having pneumonia and the second example should give us a high probability"
   ]
  },
  {
   "cell_type": "code",
   "execution_count": 89,
   "metadata": {},
   "outputs": [],
   "source": [
    "\n",
    "from tensorflow.keras.models import load_model"
   ]
  },
  {
   "cell_type": "code",
   "execution_count": 90,
   "metadata": {},
   "outputs": [],
   "source": [
    "model.load_weights('pn_model.h5')"
   ]
  },
  {
   "cell_type": "code",
   "execution_count": 92,
   "metadata": {},
   "outputs": [],
   "source": [
    "# image path\n",
    "img_path = 'a1.jpeg'    \n",
    "    \n",
    "    # load a single image\n",
    "new_image = load_image(img_path)\n",
    "\n",
    "    # check prediction\n",
    "pred = model.predict(new_image)"
   ]
  },
  {
   "cell_type": "code",
   "execution_count": 93,
   "metadata": {},
   "outputs": [
    {
     "data": {
      "text/plain": [
       "array([[0.06266933]], dtype=float32)"
      ]
     },
     "execution_count": 93,
     "metadata": {},
     "output_type": "execute_result"
    }
   ],
   "source": [
    "pred"
   ]
  },
  {
   "cell_type": "markdown",
   "metadata": {},
   "source": [
    "# This prediction shows that the given image has pneumonia with a probability of 0.06266933"
   ]
  },
  {
   "cell_type": "code",
   "execution_count": 95,
   "metadata": {},
   "outputs": [],
   "source": [
    "img_path = 'a2.jpeg'    \n",
    "    \n",
    "    # load a single image\n",
    "new_image = load_image(img_path)"
   ]
  },
  {
   "cell_type": "code",
   "execution_count": 96,
   "metadata": {},
   "outputs": [],
   "source": [
    "pred_2 = model.predict(new_image)"
   ]
  },
  {
   "cell_type": "code",
   "execution_count": 97,
   "metadata": {},
   "outputs": [
    {
     "data": {
      "text/plain": [
       "array([[0.8321454]], dtype=float32)"
      ]
     },
     "execution_count": 97,
     "metadata": {},
     "output_type": "execute_result"
    }
   ],
   "source": [
    "pred_2"
   ]
  },
  {
   "cell_type": "markdown",
   "metadata": {},
   "source": [
    "# This prediction says that probability of this image having pneumonia is 0.8321454"
   ]
  },
  {
   "cell_type": "markdown",
   "metadata": {},
   "source": []
  },
  {
   "cell_type": "code",
   "execution_count": null,
   "metadata": {},
   "outputs": [],
   "source": []
  },
  {
   "cell_type": "code",
   "execution_count": null,
   "metadata": {},
   "outputs": [],
   "source": []
  },
  {
   "cell_type": "code",
   "execution_count": null,
   "metadata": {},
   "outputs": [],
   "source": []
  }
 ],
 "metadata": {
  "kernelspec": {
   "display_name": "Python 3",
   "language": "python",
   "name": "python3"
  },
  "language_info": {
   "codemirror_mode": {
    "name": "ipython",
    "version": 3
   },
   "file_extension": ".py",
   "mimetype": "text/x-python",
   "name": "python",
   "nbconvert_exporter": "python",
   "pygments_lexer": "ipython3",
   "version": "3.7.3"
  }
 },
 "nbformat": 4,
 "nbformat_minor": 2
}
