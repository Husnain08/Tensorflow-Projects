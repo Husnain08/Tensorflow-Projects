{
 "cells": [
  {
   "cell_type": "markdown",
   "metadata": {},
   "source": [
    "# This code is an attempt to create a model to classify the Malaria dataset. It contains images of the blood slides from healthy and infected blood samples of Malaria."
   ]
  },
  {
   "cell_type": "markdown",
   "metadata": {},
   "source": [
    "#  Find the dataset at https://ceb.nlm.nih.gov/repositories/malaria-datasets/"
   ]
  },
  {
   "cell_type": "markdown",
   "metadata": {},
   "source": [
    "# Some Deep Learning Libraries and Frameworks used in this project are:\n",
    "1. Keras\n",
    "2. Tensorflow\n",
    "3. Numpy\n",
    "4. Pandas\n",
    "5. Matplotlib"
   ]
  },
  {
   "cell_type": "markdown",
   "metadata": {},
   "source": [
    "I am assuming that the readers have a fundamental understanding of Convolutional Neural Networks , Image Augmentation and Transfer Learning"
   ]
  },
  {
   "cell_type": "markdown",
   "metadata": {},
   "source": [
    "Part 1 : Visualization , preprocessing and preparation of the data"
   ]
  },
  {
   "cell_type": "code",
   "execution_count": 1,
   "metadata": {},
   "outputs": [],
   "source": [
    "# Importing the Best Trio\n",
    "import pandas as pd\n",
    "import numpy as np\n",
    "import matplotlib.pyplot as plt\n"
   ]
  },
  {
   "cell_type": "code",
   "execution_count": 2,
   "metadata": {},
   "outputs": [],
   "source": [
    "import os\n",
    "import glob\n",
    "\n",
    "directory = os.path.join ('./cell_images')"
   ]
  },
  {
   "cell_type": "code",
   "execution_count": 3,
   "metadata": {},
   "outputs": [],
   "source": [
    "healthy_slides = os.path.join (directory , 'Uninfected')\n",
    "infected_slides = os.path.join (directory , 'Parasitized')"
   ]
  },
  {
   "cell_type": "code",
   "execution_count": 4,
   "metadata": {},
   "outputs": [],
   "source": [
    "healthy_files = glob.glob (healthy_slides + '/*.png' ) # Since we have the pictures in the png format\n",
    "infected_files = glob.glob (infected_slides + '/*.png' )"
   ]
  },
  {
   "cell_type": "code",
   "execution_count": 5,
   "metadata": {},
   "outputs": [
    {
     "name": "stdout",
     "output_type": "stream",
     "text": [
      "Total number of Image Slides of uninfected blood is 13779\n",
      "Total number of Image Slides of infected blood is 13779\n"
     ]
    }
   ],
   "source": [
    "print ('Total number of Image Slides of uninfected blood is ' + str (len (healthy_files)))\n",
    "print ('Total number of Image Slides of infected blood is ' + str (len (infected_files)))"
   ]
  },
  {
   "cell_type": "code",
   "execution_count": null,
   "metadata": {},
   "outputs": [],
   "source": []
  },
  {
   "cell_type": "markdown",
   "metadata": {},
   "source": [
    "Stroing these files into a data frame in pandas"
   ]
  },
  {
   "cell_type": "code",
   "execution_count": 6,
   "metadata": {},
   "outputs": [],
   "source": [
    "df = pd.DataFrame ({\n",
    "    'file' : infected_files + healthy_files ,\n",
    "    'label' : ['malaria'] * len (infected_files) + ['uninfected'] * len (healthy_files)\n",
    "     }). sample (frac = 1 , random_state = 0 ). reset_index (drop = True)"
   ]
  },
  {
   "cell_type": "code",
   "execution_count": 7,
   "metadata": {},
   "outputs": [
    {
     "data": {
      "text/html": [
       "<div>\n",
       "<style scoped>\n",
       "    .dataframe tbody tr th:only-of-type {\n",
       "        vertical-align: middle;\n",
       "    }\n",
       "\n",
       "    .dataframe tbody tr th {\n",
       "        vertical-align: top;\n",
       "    }\n",
       "\n",
       "    .dataframe thead th {\n",
       "        text-align: right;\n",
       "    }\n",
       "</style>\n",
       "<table border=\"1\" class=\"dataframe\">\n",
       "  <thead>\n",
       "    <tr style=\"text-align: right;\">\n",
       "      <th></th>\n",
       "      <th>file</th>\n",
       "      <th>label</th>\n",
       "    </tr>\n",
       "  </thead>\n",
       "  <tbody>\n",
       "    <tr>\n",
       "      <th>0</th>\n",
       "      <td>./cell_images\\Parasitized\\C116P77ThinF_IMG_201...</td>\n",
       "      <td>malaria</td>\n",
       "    </tr>\n",
       "    <tr>\n",
       "      <th>1</th>\n",
       "      <td>./cell_images\\Parasitized\\C101P62ThinF_IMG_201...</td>\n",
       "      <td>malaria</td>\n",
       "    </tr>\n",
       "    <tr>\n",
       "      <th>2</th>\n",
       "      <td>./cell_images\\Uninfected\\C165P126ThinF_IMG_201...</td>\n",
       "      <td>uninfected</td>\n",
       "    </tr>\n",
       "  </tbody>\n",
       "</table>\n",
       "</div>"
      ],
      "text/plain": [
       "                                                file       label\n",
       "0  ./cell_images\\Parasitized\\C116P77ThinF_IMG_201...     malaria\n",
       "1  ./cell_images\\Parasitized\\C101P62ThinF_IMG_201...     malaria\n",
       "2  ./cell_images\\Uninfected\\C165P126ThinF_IMG_201...  uninfected"
      ]
     },
     "execution_count": 7,
     "metadata": {},
     "output_type": "execute_result"
    }
   ],
   "source": [
    "# A peak into the data frame\n",
    "df.head(3)"
   ]
  },
  {
   "cell_type": "markdown",
   "metadata": {},
   "source": [
    "# Note : Due to the diversity of the slide images , it is very reasonable to assume that all the images are not the same size, unless some one already resized all of them. \n"
   ]
  },
  {
   "cell_type": "markdown",
   "metadata": {},
   "source": [
    "As we will see , all of the images are not of the same size. Due to the constraint of our model that \n",
    "we could only pass same sized images , I will resize them all to make it pass through the model"
   ]
  },
  {
   "cell_type": "code",
   "execution_count": 8,
   "metadata": {},
   "outputs": [
    {
     "name": "stdout",
     "output_type": "stream",
     "text": [
      "(17636,) (4410,) (5512,)\n",
      "Train: Counter({'uninfected': 8827, 'malaria': 8809}) \n",
      "Validation Set: Counter({'malaria': 2209, 'uninfected': 2201}) \n",
      " Test Set: Counter({'malaria': 2761, 'uninfected': 2751})\n"
     ]
    }
   ],
   "source": [
    "# Doing Train- Test Split\n",
    "from sklearn.model_selection import train_test_split\n",
    "from collections import Counter\n",
    "\n",
    "train_files, test_files, train_labels, test_labels = train_test_split(df['file'].values,\n",
    "                                                                      df['label'].values, \n",
    "                                                                      test_size=0.2, random_state=42)\n",
    "train_files, val_files, train_labels, val_labels = train_test_split(train_files,\n",
    "                                                                    train_labels, \n",
    "                                                                    test_size=0.2, random_state=42)\n",
    "\n",
    "print(train_files.shape, val_files.shape, test_files.shape)\n",
    "print('Train:', Counter(train_labels), '\\nValidation Set:', Counter(val_labels), '\\n Test Set:', Counter(test_labels))\n",
    "\n"
   ]
  },
  {
   "cell_type": "code",
   "execution_count": 9,
   "metadata": {},
   "outputs": [
    {
     "data": {
      "text/plain": [
       "numpy.ndarray"
      ]
     },
     "execution_count": 9,
     "metadata": {},
     "output_type": "execute_result"
    }
   ],
   "source": [
    "type( train_files )\n"
   ]
  },
  {
   "cell_type": "code",
   "execution_count": 10,
   "metadata": {},
   "outputs": [
    {
     "name": "stdout",
     "output_type": "stream",
     "text": [
      "Loading Train Images:\n",
      "ThreadPoolExecutor-0_0: working on img num: 0\n",
      "ThreadPoolExecutor-0_21: working on img num: 5000\n",
      "ThreadPoolExecutor-0_23: working on img num: 10000\n",
      "ThreadPoolExecutor-0_33: working on img num: 15000\n",
      "ThreadPoolExecutor-0_7: working on img num: 17635\n",
      "\n",
      "Loading Validation Images:\n",
      "ThreadPoolExecutor-0_30: working on img num: 0\n",
      "ThreadPoolExecutor-0_8: working on img num: 4409\n",
      "\n",
      "Loading Test Images:\n",
      "ThreadPoolExecutor-0_36: working on img num: 0\n",
      "ThreadPoolExecutor-0_9: working on img num: 5000\n",
      "ThreadPoolExecutor-0_36: working on img num: 5511\n"
     ]
    },
    {
     "data": {
      "text/plain": [
       "((17636, 125, 125, 3), (4410, 125, 125, 3), (5512, 125, 125, 3))"
      ]
     },
     "execution_count": 10,
     "metadata": {},
     "output_type": "execute_result"
    }
   ],
   "source": [
    "import cv2\n",
    "from concurrent import futures\n",
    "import threading\n",
    "\n",
    "IMG_DIMS = (125, 125)\n",
    "\n",
    "def get_img_data_parallel(idx, img, total_imgs):\n",
    "    if idx % 5000 == 0 or idx == (total_imgs - 1):\n",
    "        print('{}: working on img num: {}'.format(threading.current_thread().name,\n",
    "                                                  idx))\n",
    "    img = cv2.imread(img)\n",
    "    img = cv2.resize(img, dsize=IMG_DIMS, \n",
    "                     interpolation=cv2.INTER_CUBIC)\n",
    "    img = np.array(img, dtype=np.float32)\n",
    "    return img\n",
    "\n",
    "ex = futures.ThreadPoolExecutor(max_workers=None)\n",
    "train_data_inp = [(idx, img, len(train_files)) for idx, img in enumerate(train_files)]\n",
    "val_data_inp = [(idx, img, len(val_files)) for idx, img in enumerate(val_files)]\n",
    "test_data_inp = [(idx, img, len(test_files)) for idx, img in enumerate(test_files)]\n",
    "\n",
    "print('Loading Train Images:')\n",
    "train_data_map = ex.map(get_img_data_parallel, \n",
    "                        [record[0] for record in train_data_inp],\n",
    "                        [record[1] for record in train_data_inp],\n",
    "                        [record[2] for record in train_data_inp])\n",
    "train_data = np.array(list(train_data_map))\n",
    "\n",
    "print('\\nLoading Validation Images:')\n",
    "val_data_map = ex.map(get_img_data_parallel, \n",
    "                        [record[0] for record in val_data_inp],\n",
    "                        [record[1] for record in val_data_inp],\n",
    "                        [record[2] for record in val_data_inp])\n",
    "val_data = np.array(list(val_data_map))\n",
    "\n",
    "print('\\nLoading Test Images:')\n",
    "test_data_map = ex.map(get_img_data_parallel, \n",
    "                        [record[0] for record in test_data_inp],\n",
    "                        [record[1] for record in test_data_inp],\n",
    "                        [record[2] for record in test_data_inp])\n",
    "test_data = np.array(list(test_data_map))\n",
    "\n",
    "train_data.shape, val_data.shape, test_data.shape  \n"
   ]
  },
  {
   "cell_type": "code",
   "execution_count": 11,
   "metadata": {},
   "outputs": [],
   "source": [
    "train_imgs_scaled = train_data / 255.\n",
    "val_imgs_scaled = val_data / 255."
   ]
  },
  {
   "cell_type": "code",
   "execution_count": 12,
   "metadata": {
    "scrolled": true
   },
   "outputs": [
    {
     "data": {
      "image/png": "[encoded data removed]",
      "text/plain": [
       "<Figure size 504x504 with 10 Axes>"
      ]
     },
     "metadata": {},
     "output_type": "display_data"
    }
   ],
   "source": [
    "# Visualizing some of the samples in the training data\n",
    "\n",
    "import matplotlib.pyplot as plt\n",
    "%matplotlib inline\n",
    "\n",
    "plt.figure(1 , figsize = (7 , 7))\n",
    "n = 0 \n",
    "for i in range(10):\n",
    "    n += 1 \n",
    "    r = np.random.randint(0 , train_data.shape[0] , 1)\n",
    "    plt.subplot(5 , 5 , n)\n",
    "    plt.subplots_adjust(hspace = 0.5 , wspace = 0.5)\n",
    "    plt.imshow(train_data[r[0]]/255.)\n",
    "    plt.title('{}'.format(train_labels[r[0]]))\n",
    "    plt.xticks([]) , plt.yticks([])"
   ]
  },
  {
   "cell_type": "code",
   "execution_count": 13,
   "metadata": {},
   "outputs": [
    {
     "name": "stderr",
     "output_type": "stream",
     "text": [
      "Using TensorFlow backend.\n"
     ]
    }
   ],
   "source": [
    "#Let us now model\n",
    "import tensorflow as tf\n",
    "import keras\n",
    "class myCallback(tf.keras.callbacks.Callback):\n",
    "    def on_epoch_end(self, epoch, logs={}):\n",
    "        if(logs.get('acc')>0.960):\n",
    "            print(\"\\n Reached 96% accuracy so cancelling training!\")\n",
    "            self.model.stop_training = True\n",
    "callbacks = myCallback()"
   ]
  },
  {
   "cell_type": "code",
   "execution_count": 14,
   "metadata": {},
   "outputs": [],
   "source": [
    "from sklearn.preprocessing import LabelEncoder\n",
    "\n",
    "le = LabelEncoder()\n",
    "le.fit(train_labels)\n",
    "train_labels_enc = le.transform(train_labels)\n",
    "val_labels_enc = le.transform(val_labels)"
   ]
  },
  {
   "cell_type": "code",
   "execution_count": 15,
   "metadata": {},
   "outputs": [
    {
     "data": {
      "text/plain": [
       "array([1, 0, 0, ..., 0, 0, 1])"
      ]
     },
     "execution_count": 15,
     "metadata": {},
     "output_type": "execute_result"
    }
   ],
   "source": [
    "train_labels_enc"
   ]
  },
  {
   "cell_type": "code",
   "execution_count": 18,
   "metadata": {},
   "outputs": [],
   "source": [
    "model = tf.keras.models.Sequential([\n",
    "  tf.keras.layers.Conv2D(32, (3,3), activation='relu', input_shape=(125, 125, 3)),\n",
    "  tf.keras.layers.MaxPooling2D(2, 2),\n",
    "  tf.keras.layers.Dropout(0.20),\n",
    "  tf.keras.layers.Conv2D(64, (3,3), activation='relu'),\n",
    "  tf.keras.layers.MaxPooling2D(2, 2),\n",
    "  tf.keras.layers.Dropout(0.25),\n",
    "  tf.keras.layers.Flatten(),\n",
    "  tf.keras.layers.Dense(80, activation='relu'),\n",
    "  tf.keras.layers.Dropout(0.25),  \n",
    "  tf.keras.layers.Dense(1, activation='sigmoid')])\n"
   ]
  },
  {
   "cell_type": "code",
   "execution_count": 19,
   "metadata": {},
   "outputs": [
    {
     "name": "stdout",
     "output_type": "stream",
     "text": [
      "Model: \"sequential_1\"\n",
      "_________________________________________________________________\n",
      "Layer (type)                 Output Shape              Param #   \n",
      "=================================================================\n",
      "conv2d_2 (Conv2D)            (None, 123, 123, 32)      896       \n",
      "_________________________________________________________________\n",
      "max_pooling2d_2 (MaxPooling2 (None, 61, 61, 32)        0         \n",
      "_________________________________________________________________\n",
      "dropout_3 (Dropout)          (None, 61, 61, 32)        0         \n",
      "_________________________________________________________________\n",
      "conv2d_3 (Conv2D)            (None, 59, 59, 64)        18496     \n",
      "_________________________________________________________________\n",
      "max_pooling2d_3 (MaxPooling2 (None, 29, 29, 64)        0         \n",
      "_________________________________________________________________\n",
      "dropout_4 (Dropout)          (None, 29, 29, 64)        0         \n",
      "_________________________________________________________________\n",
      "flatten_1 (Flatten)          (None, 53824)             0         \n",
      "_________________________________________________________________\n",
      "dense_2 (Dense)              (None, 80)                4306000   \n",
      "_________________________________________________________________\n",
      "dropout_5 (Dropout)          (None, 80)                0         \n",
      "_________________________________________________________________\n",
      "dense_3 (Dense)              (None, 1)                 81        \n",
      "=================================================================\n",
      "Total params: 4,325,473\n",
      "Trainable params: 4,325,473\n",
      "Non-trainable params: 0\n",
      "_________________________________________________________________\n"
     ]
    }
   ],
   "source": [
    "model.summary()"
   ]
  },
  {
   "cell_type": "code",
   "execution_count": 20,
   "metadata": {},
   "outputs": [
    {
     "name": "stderr",
     "output_type": "stream",
     "text": [
      "W0713 14:19:17.557295 45684 deprecation.py:323] From C:\\Users\\user pc\\Anaconda3\\lib\\site-packages\\tensorflow\\python\\ops\\nn_impl.py:180: add_dispatch_support.<locals>.wrapper (from tensorflow.python.ops.array_ops) is deprecated and will be removed in a future version.\n",
      "Instructions for updating:\n",
      "Use tf.where in 2.0, which has the same broadcast rule as np.where\n"
     ]
    }
   ],
   "source": [
    "from tensorflow.keras.optimizers import RMSprop\n",
    "\n",
    "model.compile(loss='binary_crossentropy',optimizer=RMSprop(lr=0.001),metrics=['acc'])"
   ]
  },
  {
   "cell_type": "code",
   "execution_count": null,
   "metadata": {},
   "outputs": [
    {
     "name": "stdout",
     "output_type": "stream",
     "text": [
      "Train on 17636 samples, validate on 4410 samples\n",
      "Epoch 1/30\n",
      "17636/17636 - 345s - loss: 0.5253 - acc: 0.7512 - val_loss: 0.3439 - val_acc: 0.9358\n",
      "Epoch 2/30\n",
      "17636/17636 - 329s - loss: 0.2779 - acc: 0.9174 - val_loss: 0.2861 - val_acc: 0.9478\n",
      "Epoch 3/30\n",
      "17636/17636 - 288s - loss: 0.2803 - acc: 0.9290 - val_loss: 0.3319 - val_acc: 0.9306\n",
      "Epoch 4/30\n",
      "17636/17636 - 226s - loss: 0.2931 - acc: 0.9260 - val_loss: 0.3259 - val_acc: 0.9426\n",
      "Epoch 5/30\n",
      "17636/17636 - 225s - loss: 0.2799 - acc: 0.9269 - val_loss: 0.3013 - val_acc: 0.9454\n",
      "Epoch 6/30\n",
      "17636/17636 - 224s - loss: 0.2781 - acc: 0.9290 - val_loss: 0.2806 - val_acc: 0.9460\n",
      "Epoch 7/30\n",
      "17636/17636 - 225s - loss: 0.2787 - acc: 0.9314 - val_loss: 0.2884 - val_acc: 0.9474\n",
      "Epoch 8/30\n",
      "17636/17636 - 225s - loss: 0.2768 - acc: 0.9329 - val_loss: 0.2752 - val_acc: 0.9497\n",
      "Epoch 9/30\n",
      "17636/17636 - 225s - loss: 0.2738 - acc: 0.9328 - val_loss: 0.2605 - val_acc: 0.9463\n",
      "Epoch 10/30\n",
      "17636/17636 - 224s - loss: 0.2575 - acc: 0.9359 - val_loss: 0.2663 - val_acc: 0.9501\n",
      "Epoch 11/30\n",
      "17636/17636 - 229s - loss: 0.2615 - acc: 0.9340 - val_loss: 0.2439 - val_acc: 0.9333\n",
      "Epoch 12/30\n",
      "17636/17636 - 226s - loss: 0.2616 - acc: 0.9355 - val_loss: 0.2420 - val_acc: 0.9420\n",
      "Epoch 13/30\n",
      "17636/17636 - 226s - loss: 0.2548 - acc: 0.9355 - val_loss: 0.2534 - val_acc: 0.9508\n",
      "Epoch 14/30\n",
      "17636/17636 - 225s - loss: 0.2978 - acc: 0.9367 - val_loss: 0.2930 - val_acc: 0.9478\n",
      "Epoch 15/30\n",
      "17636/17636 - 224s - loss: 0.2446 - acc: 0.9396 - val_loss: 0.2350 - val_acc: 0.9420\n",
      "Epoch 16/30\n",
      "17636/17636 - 224s - loss: 0.2603 - acc: 0.9381 - val_loss: 0.2415 - val_acc: 0.9456\n",
      "Epoch 17/30\n",
      "17636/17636 - 223s - loss: 0.2226 - acc: 0.9390 - val_loss: 0.2492 - val_acc: 0.9438\n",
      "Epoch 18/30\n",
      "17636/17636 - 224s - loss: 0.2322 - acc: 0.9398 - val_loss: 0.3081 - val_acc: 0.9488\n",
      "Epoch 19/30\n",
      "17636/17636 - 223s - loss: 0.2376 - acc: 0.9411 - val_loss: 0.2833 - val_acc: 0.9132\n",
      "Epoch 20/30\n",
      "17636/17636 - 460s - loss: 0.2321 - acc: 0.9399 - val_loss: 0.2498 - val_acc: 0.9469\n",
      "Epoch 21/30\n",
      "17636/17636 - 226s - loss: 0.2699 - acc: 0.9387 - val_loss: 0.3443 - val_acc: 0.8839\n",
      "Epoch 22/30\n",
      "17636/17636 - 225s - loss: 0.2235 - acc: 0.9406 - val_loss: 0.3349 - val_acc: 0.9429\n",
      "Epoch 23/30\n",
      "17636/17636 - 223s - loss: 0.2540 - acc: 0.9417 - val_loss: 0.2507 - val_acc: 0.9431\n",
      "Epoch 24/30\n",
      "17636/17636 - 224s - loss: 0.2281 - acc: 0.9394 - val_loss: 0.2701 - val_acc: 0.9447\n",
      "Epoch 25/30\n",
      "17636/17636 - 224s - loss: 0.2170 - acc: 0.9407 - val_loss: 0.3095 - val_acc: 0.9431\n",
      "Epoch 26/30\n",
      "17636/17636 - 223s - loss: 0.2144 - acc: 0.9434 - val_loss: 0.4504 - val_acc: 0.9510\n",
      "Epoch 27/30\n",
      "17636/17636 - 225s - loss: 0.2197 - acc: 0.9416 - val_loss: 0.2292 - val_acc: 0.9440\n",
      "Epoch 28/30\n",
      "17636/17636 - 794s - loss: 0.2218 - acc: 0.9428 - val_loss: 0.2856 - val_acc: 0.9442\n",
      "Epoch 29/30\n",
      "17636/17636 - 227s - loss: 0.2166 - acc: 0.9415 - val_loss: 0.2404 - val_acc: 0.9433\n",
      "Epoch 30/30\n"
     ]
    }
   ],
   "source": [
    "history = model.fit(x=train_imgs_scaled, y=train_labels_enc, \n",
    "                    batch_size=20,\n",
    "                    epochs=30, \n",
    "                    validation_data=(val_imgs_scaled, val_labels_enc), \n",
    "                    callbacks=[callbacks],\n",
    "                    verbose=2)"
   ]
  },
  {
   "cell_type": "code",
   "execution_count": null,
   "metadata": {},
   "outputs": [],
   "source": [
    "model.save('basic_cnn.h5')"
   ]
  },
  {
   "cell_type": "code",
   "execution_count": null,
   "metadata": {},
   "outputs": [],
   "source": []
  },
  {
   "cell_type": "code",
   "execution_count": null,
   "metadata": {},
   "outputs": [],
   "source": []
  },
  {
   "cell_type": "code",
   "execution_count": null,
   "metadata": {},
   "outputs": [],
   "source": []
  },
  {
   "cell_type": "code",
   "execution_count": null,
   "metadata": {},
   "outputs": [],
   "source": []
  },
  {
   "cell_type": "code",
   "execution_count": null,
   "metadata": {},
   "outputs": [],
   "source": []
  },
  {
   "cell_type": "code",
   "execution_count": null,
   "metadata": {},
   "outputs": [],
   "source": []
  },
  {
   "cell_type": "code",
   "execution_count": null,
   "metadata": {},
   "outputs": [],
   "source": []
  }
 ],
 "metadata": {
  "kernelspec": {
   "display_name": "Python 3",
   "language": "python",
   "name": "python3"
  },
  "language_info": {
   "codemirror_mode": {
    "name": "ipython",
    "version": 3
   },
   "file_extension": ".py",
   "mimetype": "text/x-python",
   "name": "python",
   "nbconvert_exporter": "python",
   "pygments_lexer": "ipython3",
   "version": "3.7.3"
  }
 },
 "nbformat": 4,
 "nbformat_minor": 2
}
